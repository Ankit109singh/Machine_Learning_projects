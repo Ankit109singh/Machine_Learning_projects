{
 "cells": [
  {
   "cell_type": "markdown",
   "id": "307d70b8-728e-4e9a-a057-711dc07558c0",
   "metadata": {},
   "source": [
    "# KNN for Regression problem\n",
    "## We have to predict the energy consumption of different country in incoming year"
   ]
  },
  {
   "cell_type": "code",
   "execution_count": 20,
   "id": "63c8110f-9123-4c53-9a17-c4b24f99e543",
   "metadata": {},
   "outputs": [],
   "source": [
    "# Base Libraries\n",
    "import pandas as pd\n",
    "import matplotlib.pyplot as plt  \n",
    "import numpy as np\n",
    "# Transformation\n",
    "from sklearn.preprocessing import MinMaxScaler\n",
    "# Models\n",
    "from sklearn.model_selection import train_test_split\n",
    "from sklearn.model_selection import GridSearchCV\n",
    "from sklearn import neighbors\n",
    "# Metrics\n",
    "from sklearn.metrics import mean_absolute_error\n",
    "from sklearn.metrics import mean_squared_error\n",
    "from sklearn.metrics import mean_squared_log_error\n",
    "from sklearn.metrics import r2_score\n",
    "from sklearn.metrics import explained_variance_score"
   ]
  },
  {
   "cell_type": "code",
   "execution_count": 21,
   "id": "29066c8e-aa38-48e5-b8c2-1588aa083113",
   "metadata": {},
   "outputs": [],
   "source": [
    "df = pd.read_csv(r\"C:\\Users\\Ankit kumar singh\\Knowledge\\Technical knowledge\\Machine Learning\\DATASETS\\Hydropower_Consumption.csv\")"
   ]
  },
  {
   "cell_type": "code",
   "execution_count": 22,
   "id": "5b96fce6-39b1-4b38-856a-2280c51b54c0",
   "metadata": {
    "scrolled": true
   },
   "outputs": [
    {
     "data": {
      "text/html": [
       "<div>\n",
       "<style scoped>\n",
       "    .dataframe tbody tr th:only-of-type {\n",
       "        vertical-align: middle;\n",
       "    }\n",
       "\n",
       "    .dataframe tbody tr th {\n",
       "        vertical-align: top;\n",
       "    }\n",
       "\n",
       "    .dataframe thead th {\n",
       "        text-align: right;\n",
       "    }\n",
       "</style>\n",
       "<table border=\"1\" class=\"dataframe\">\n",
       "  <thead>\n",
       "    <tr style=\"text-align: right;\">\n",
       "      <th></th>\n",
       "      <th>Country</th>\n",
       "      <th>2000</th>\n",
       "      <th>2001</th>\n",
       "      <th>2002</th>\n",
       "      <th>2003</th>\n",
       "      <th>2004</th>\n",
       "      <th>2005</th>\n",
       "      <th>2006</th>\n",
       "      <th>2007</th>\n",
       "      <th>2008</th>\n",
       "      <th>...</th>\n",
       "      <th>2010</th>\n",
       "      <th>2011</th>\n",
       "      <th>2012</th>\n",
       "      <th>2013</th>\n",
       "      <th>2014</th>\n",
       "      <th>2015</th>\n",
       "      <th>2016</th>\n",
       "      <th>2017</th>\n",
       "      <th>2018</th>\n",
       "      <th>2019</th>\n",
       "    </tr>\n",
       "  </thead>\n",
       "  <tbody>\n",
       "    <tr>\n",
       "      <th>0</th>\n",
       "      <td>Afghanistan</td>\n",
       "      <td>312</td>\n",
       "      <td>498</td>\n",
       "      <td>555</td>\n",
       "      <td>63</td>\n",
       "      <td>565</td>\n",
       "      <td>59</td>\n",
       "      <td>637</td>\n",
       "      <td>748</td>\n",
       "      <td>542</td>\n",
       "      <td>...</td>\n",
       "      <td>751</td>\n",
       "      <td>595</td>\n",
       "      <td>71</td>\n",
       "      <td>804</td>\n",
       "      <td>895</td>\n",
       "      <td>989</td>\n",
       "      <td>1025</td>\n",
       "      <td>105</td>\n",
       "      <td>105</td>\n",
       "      <td>107</td>\n",
       "    </tr>\n",
       "    <tr>\n",
       "      <th>1</th>\n",
       "      <td>Africa</td>\n",
       "      <td>75246</td>\n",
       "      <td>80864</td>\n",
       "      <td>85181</td>\n",
       "      <td>82873</td>\n",
       "      <td>87405</td>\n",
       "      <td>89066</td>\n",
       "      <td>92241</td>\n",
       "      <td>95341</td>\n",
       "      <td>97157</td>\n",
       "      <td>...</td>\n",
       "      <td>107427</td>\n",
       "      <td>110445</td>\n",
       "      <td>110952</td>\n",
       "      <td>117673</td>\n",
       "      <td>123727</td>\n",
       "      <td>115801</td>\n",
       "      <td>123816</td>\n",
       "      <td>130388</td>\n",
       "      <td>132735</td>\n",
       "      <td>0</td>\n",
       "    </tr>\n",
       "    <tr>\n",
       "      <th>2</th>\n",
       "      <td>Albania</td>\n",
       "      <td>4548</td>\n",
       "      <td>3519</td>\n",
       "      <td>3477</td>\n",
       "      <td>5117</td>\n",
       "      <td>5411</td>\n",
       "      <td>5319</td>\n",
       "      <td>4951</td>\n",
       "      <td>276</td>\n",
       "      <td>3759</td>\n",
       "      <td>...</td>\n",
       "      <td>7673</td>\n",
       "      <td>4036</td>\n",
       "      <td>4725</td>\n",
       "      <td>6959</td>\n",
       "      <td>4726</td>\n",
       "      <td>5866</td>\n",
       "      <td>7136</td>\n",
       "      <td>448</td>\n",
       "      <td>448</td>\n",
       "      <td>4018</td>\n",
       "    </tr>\n",
       "    <tr>\n",
       "      <th>3</th>\n",
       "      <td>Algeria</td>\n",
       "      <td>54</td>\n",
       "      <td>69</td>\n",
       "      <td>57</td>\n",
       "      <td>265</td>\n",
       "      <td>251</td>\n",
       "      <td>555</td>\n",
       "      <td>218</td>\n",
       "      <td>226</td>\n",
       "      <td>283</td>\n",
       "      <td>...</td>\n",
       "      <td>173</td>\n",
       "      <td>378</td>\n",
       "      <td>389</td>\n",
       "      <td>99</td>\n",
       "      <td>193</td>\n",
       "      <td>145</td>\n",
       "      <td>72</td>\n",
       "      <td>56</td>\n",
       "      <td>117</td>\n",
       "      <td>152</td>\n",
       "    </tr>\n",
       "    <tr>\n",
       "      <th>4</th>\n",
       "      <td>Angola</td>\n",
       "      <td>903</td>\n",
       "      <td>1007</td>\n",
       "      <td>1132</td>\n",
       "      <td>1229</td>\n",
       "      <td>1733</td>\n",
       "      <td>2197</td>\n",
       "      <td>2638</td>\n",
       "      <td>2472</td>\n",
       "      <td>3103</td>\n",
       "      <td>...</td>\n",
       "      <td>3666</td>\n",
       "      <td>3967</td>\n",
       "      <td>3734</td>\n",
       "      <td>4719</td>\n",
       "      <td>4991</td>\n",
       "      <td>5037</td>\n",
       "      <td>5757</td>\n",
       "      <td>7576</td>\n",
       "      <td>7576</td>\n",
       "      <td>8422</td>\n",
       "    </tr>\n",
       "  </tbody>\n",
       "</table>\n",
       "<p>5 rows × 21 columns</p>\n",
       "</div>"
      ],
      "text/plain": [
       "       Country   2000   2001   2002   2003   2004   2005   2006   2007   2008  \\\n",
       "0  Afghanistan    312    498    555     63    565     59    637    748    542   \n",
       "1       Africa  75246  80864  85181  82873  87405  89066  92241  95341  97157   \n",
       "2      Albania   4548   3519   3477   5117   5411   5319   4951    276   3759   \n",
       "3      Algeria     54     69     57    265    251    555    218    226    283   \n",
       "4       Angola    903   1007   1132   1229   1733   2197   2638   2472   3103   \n",
       "\n",
       "   ...    2010    2011    2012    2013    2014    2015    2016    2017  \\\n",
       "0  ...     751     595      71     804     895     989    1025     105   \n",
       "1  ...  107427  110445  110952  117673  123727  115801  123816  130388   \n",
       "2  ...    7673    4036    4725    6959    4726    5866    7136     448   \n",
       "3  ...     173     378     389      99     193     145      72      56   \n",
       "4  ...    3666    3967    3734    4719    4991    5037    5757    7576   \n",
       "\n",
       "     2018  2019  \n",
       "0     105   107  \n",
       "1  132735     0  \n",
       "2     448  4018  \n",
       "3     117   152  \n",
       "4    7576  8422  \n",
       "\n",
       "[5 rows x 21 columns]"
      ]
     },
     "execution_count": 22,
     "metadata": {},
     "output_type": "execute_result"
    }
   ],
   "source": [
    "df.head()"
   ]
  },
  {
   "cell_type": "code",
   "execution_count": 77,
   "id": "ada39ace-caaf-47d7-a924-0c9b3b2215ac",
   "metadata": {},
   "outputs": [
    {
     "data": {
      "text/plain": [
       "(153, 21)"
      ]
     },
     "execution_count": 77,
     "metadata": {},
     "output_type": "execute_result"
    }
   ],
   "source": [
    "df.shape"
   ]
  },
  {
   "cell_type": "code",
   "execution_count": 30,
   "id": "3cc2db28-5d1c-42be-b176-090a18deae0f",
   "metadata": {},
   "outputs": [
    {
     "data": {
      "text/html": [
       "<div>\n",
       "<style scoped>\n",
       "    .dataframe tbody tr th:only-of-type {\n",
       "        vertical-align: middle;\n",
       "    }\n",
       "\n",
       "    .dataframe tbody tr th {\n",
       "        vertical-align: top;\n",
       "    }\n",
       "\n",
       "    .dataframe thead th {\n",
       "        text-align: right;\n",
       "    }\n",
       "</style>\n",
       "<table border=\"1\" class=\"dataframe\">\n",
       "  <thead>\n",
       "    <tr style=\"text-align: right;\">\n",
       "      <th></th>\n",
       "      <th>2000</th>\n",
       "      <th>2001</th>\n",
       "      <th>2002</th>\n",
       "      <th>2003</th>\n",
       "      <th>2004</th>\n",
       "      <th>2005</th>\n",
       "      <th>2006</th>\n",
       "      <th>2007</th>\n",
       "      <th>2008</th>\n",
       "      <th>2009</th>\n",
       "      <th>2010</th>\n",
       "      <th>2011</th>\n",
       "      <th>2012</th>\n",
       "      <th>2013</th>\n",
       "      <th>2014</th>\n",
       "      <th>2015</th>\n",
       "      <th>2016</th>\n",
       "      <th>2017</th>\n",
       "      <th>2018</th>\n",
       "      <th>2019</th>\n",
       "    </tr>\n",
       "  </thead>\n",
       "  <tbody>\n",
       "    <tr>\n",
       "      <th>0</th>\n",
       "      <td>312</td>\n",
       "      <td>498</td>\n",
       "      <td>555</td>\n",
       "      <td>63</td>\n",
       "      <td>565</td>\n",
       "      <td>59</td>\n",
       "      <td>637</td>\n",
       "      <td>748</td>\n",
       "      <td>542</td>\n",
       "      <td>776</td>\n",
       "      <td>751</td>\n",
       "      <td>595</td>\n",
       "      <td>71</td>\n",
       "      <td>804</td>\n",
       "      <td>895</td>\n",
       "      <td>989</td>\n",
       "      <td>1025</td>\n",
       "      <td>105</td>\n",
       "      <td>105</td>\n",
       "      <td>107</td>\n",
       "    </tr>\n",
       "    <tr>\n",
       "      <th>1</th>\n",
       "      <td>75246</td>\n",
       "      <td>80864</td>\n",
       "      <td>85181</td>\n",
       "      <td>82873</td>\n",
       "      <td>87405</td>\n",
       "      <td>89066</td>\n",
       "      <td>92241</td>\n",
       "      <td>95341</td>\n",
       "      <td>97157</td>\n",
       "      <td>99761</td>\n",
       "      <td>107427</td>\n",
       "      <td>110445</td>\n",
       "      <td>110952</td>\n",
       "      <td>117673</td>\n",
       "      <td>123727</td>\n",
       "      <td>115801</td>\n",
       "      <td>123816</td>\n",
       "      <td>130388</td>\n",
       "      <td>132735</td>\n",
       "      <td>0</td>\n",
       "    </tr>\n",
       "    <tr>\n",
       "      <th>2</th>\n",
       "      <td>4548</td>\n",
       "      <td>3519</td>\n",
       "      <td>3477</td>\n",
       "      <td>5117</td>\n",
       "      <td>5411</td>\n",
       "      <td>5319</td>\n",
       "      <td>4951</td>\n",
       "      <td>276</td>\n",
       "      <td>3759</td>\n",
       "      <td>5201</td>\n",
       "      <td>7673</td>\n",
       "      <td>4036</td>\n",
       "      <td>4725</td>\n",
       "      <td>6959</td>\n",
       "      <td>4726</td>\n",
       "      <td>5866</td>\n",
       "      <td>7136</td>\n",
       "      <td>448</td>\n",
       "      <td>448</td>\n",
       "      <td>4018</td>\n",
       "    </tr>\n",
       "    <tr>\n",
       "      <th>3</th>\n",
       "      <td>54</td>\n",
       "      <td>69</td>\n",
       "      <td>57</td>\n",
       "      <td>265</td>\n",
       "      <td>251</td>\n",
       "      <td>555</td>\n",
       "      <td>218</td>\n",
       "      <td>226</td>\n",
       "      <td>283</td>\n",
       "      <td>342</td>\n",
       "      <td>173</td>\n",
       "      <td>378</td>\n",
       "      <td>389</td>\n",
       "      <td>99</td>\n",
       "      <td>193</td>\n",
       "      <td>145</td>\n",
       "      <td>72</td>\n",
       "      <td>56</td>\n",
       "      <td>117</td>\n",
       "      <td>152</td>\n",
       "    </tr>\n",
       "    <tr>\n",
       "      <th>4</th>\n",
       "      <td>903</td>\n",
       "      <td>1007</td>\n",
       "      <td>1132</td>\n",
       "      <td>1229</td>\n",
       "      <td>1733</td>\n",
       "      <td>2197</td>\n",
       "      <td>2638</td>\n",
       "      <td>2472</td>\n",
       "      <td>3103</td>\n",
       "      <td>3063</td>\n",
       "      <td>3666</td>\n",
       "      <td>3967</td>\n",
       "      <td>3734</td>\n",
       "      <td>4719</td>\n",
       "      <td>4991</td>\n",
       "      <td>5037</td>\n",
       "      <td>5757</td>\n",
       "      <td>7576</td>\n",
       "      <td>7576</td>\n",
       "      <td>8422</td>\n",
       "    </tr>\n",
       "  </tbody>\n",
       "</table>\n",
       "</div>"
      ],
      "text/plain": [
       "    2000   2001   2002   2003   2004   2005   2006   2007   2008   2009  \\\n",
       "0    312    498    555     63    565     59    637    748    542    776   \n",
       "1  75246  80864  85181  82873  87405  89066  92241  95341  97157  99761   \n",
       "2   4548   3519   3477   5117   5411   5319   4951    276   3759   5201   \n",
       "3     54     69     57    265    251    555    218    226    283    342   \n",
       "4    903   1007   1132   1229   1733   2197   2638   2472   3103   3063   \n",
       "\n",
       "     2010    2011    2012    2013    2014    2015    2016    2017    2018  \\\n",
       "0     751     595      71     804     895     989    1025     105     105   \n",
       "1  107427  110445  110952  117673  123727  115801  123816  130388  132735   \n",
       "2    7673    4036    4725    6959    4726    5866    7136     448     448   \n",
       "3     173     378     389      99     193     145      72      56     117   \n",
       "4    3666    3967    3734    4719    4991    5037    5757    7576    7576   \n",
       "\n",
       "   2019  \n",
       "0   107  \n",
       "1     0  \n",
       "2  4018  \n",
       "3   152  \n",
       "4  8422  "
      ]
     },
     "execution_count": 30,
     "metadata": {},
     "output_type": "execute_result"
    }
   ],
   "source": [
    "# drop categrical data from the dataframe\n",
    "data = df.drop(\"Country\",axis = 1)\n",
    "data.head()"
   ]
  },
  {
   "cell_type": "markdown",
   "id": "e227311c-0a80-48db-b0cb-c0a165b781a8",
   "metadata": {},
   "source": [
    "# Scale the data for values between 0 to 1"
   ]
  },
  {
   "cell_type": "code",
   "execution_count": 31,
   "id": "8cf678a8-a77a-4dc2-884c-136dcac9b15f",
   "metadata": {},
   "outputs": [],
   "source": [
    "scaler = MinMaxScaler()\n",
    "data = pd.DataFrame(scaler.fit_transform(data), columns=['2000','2001','2002','2003','2004','2005',\n",
    "                                 '2006','2007','2008','2009','2010','2011',\n",
    "                                 '2012','2013','2014','2015','2016','2017',\n",
    "                                 '2018','2019'])"
   ]
  },
  {
   "cell_type": "code",
   "execution_count": 32,
   "id": "69901530-b6e5-4650-b1d0-a4eb5ee4d1c6",
   "metadata": {},
   "outputs": [
    {
     "data": {
      "text/html": [
       "<div>\n",
       "<style scoped>\n",
       "    .dataframe tbody tr th:only-of-type {\n",
       "        vertical-align: middle;\n",
       "    }\n",
       "\n",
       "    .dataframe tbody tr th {\n",
       "        vertical-align: top;\n",
       "    }\n",
       "\n",
       "    .dataframe thead th {\n",
       "        text-align: right;\n",
       "    }\n",
       "</style>\n",
       "<table border=\"1\" class=\"dataframe\">\n",
       "  <thead>\n",
       "    <tr style=\"text-align: right;\">\n",
       "      <th></th>\n",
       "      <th>2000</th>\n",
       "      <th>2001</th>\n",
       "      <th>2002</th>\n",
       "      <th>2003</th>\n",
       "      <th>2004</th>\n",
       "      <th>2005</th>\n",
       "      <th>2006</th>\n",
       "      <th>2007</th>\n",
       "      <th>2008</th>\n",
       "      <th>2009</th>\n",
       "      <th>2010</th>\n",
       "      <th>2011</th>\n",
       "      <th>2012</th>\n",
       "      <th>2013</th>\n",
       "      <th>2014</th>\n",
       "      <th>2015</th>\n",
       "      <th>2016</th>\n",
       "      <th>2017</th>\n",
       "      <th>2018</th>\n",
       "      <th>2019</th>\n",
       "    </tr>\n",
       "  </thead>\n",
       "  <tbody>\n",
       "    <tr>\n",
       "      <th>0</th>\n",
       "      <td>0.000471</td>\n",
       "      <td>0.000814</td>\n",
       "      <td>0.000878</td>\n",
       "      <td>0.000101</td>\n",
       "      <td>0.000902</td>\n",
       "      <td>0.000090</td>\n",
       "      <td>0.000952</td>\n",
       "      <td>0.001171</td>\n",
       "      <td>0.000810</td>\n",
       "      <td>0.001164</td>\n",
       "      <td>0.001056</td>\n",
       "      <td>0.000813</td>\n",
       "      <td>0.000082</td>\n",
       "      <td>0.000884</td>\n",
       "      <td>0.000842</td>\n",
       "      <td>0.000885</td>\n",
       "      <td>0.000889</td>\n",
       "      <td>0.000088</td>\n",
       "      <td>0.000148</td>\n",
       "      <td>0.000084</td>\n",
       "    </tr>\n",
       "    <tr>\n",
       "      <th>1</th>\n",
       "      <td>0.113562</td>\n",
       "      <td>0.132122</td>\n",
       "      <td>0.134715</td>\n",
       "      <td>0.132393</td>\n",
       "      <td>0.139596</td>\n",
       "      <td>0.135752</td>\n",
       "      <td>0.137904</td>\n",
       "      <td>0.149435</td>\n",
       "      <td>0.145494</td>\n",
       "      <td>0.149580</td>\n",
       "      <td>0.151011</td>\n",
       "      <td>0.151688</td>\n",
       "      <td>0.128596</td>\n",
       "      <td>0.129366</td>\n",
       "      <td>0.116755</td>\n",
       "      <td>0.103900</td>\n",
       "      <td>0.107361</td>\n",
       "      <td>0.111912</td>\n",
       "      <td>0.187511</td>\n",
       "      <td>0.000000</td>\n",
       "    </tr>\n",
       "    <tr>\n",
       "      <th>2</th>\n",
       "      <td>0.006864</td>\n",
       "      <td>0.005750</td>\n",
       "      <td>0.005499</td>\n",
       "      <td>0.008175</td>\n",
       "      <td>0.008642</td>\n",
       "      <td>0.008107</td>\n",
       "      <td>0.007402</td>\n",
       "      <td>0.000431</td>\n",
       "      <td>0.005628</td>\n",
       "      <td>0.007798</td>\n",
       "      <td>0.010786</td>\n",
       "      <td>0.005539</td>\n",
       "      <td>0.005476</td>\n",
       "      <td>0.007651</td>\n",
       "      <td>0.004457</td>\n",
       "      <td>0.005261</td>\n",
       "      <td>0.006188</td>\n",
       "      <td>0.000382</td>\n",
       "      <td>0.000633</td>\n",
       "      <td>0.003165</td>\n",
       "    </tr>\n",
       "    <tr>\n",
       "      <th>3</th>\n",
       "      <td>0.000081</td>\n",
       "      <td>0.000113</td>\n",
       "      <td>0.000090</td>\n",
       "      <td>0.000423</td>\n",
       "      <td>0.000401</td>\n",
       "      <td>0.000846</td>\n",
       "      <td>0.000326</td>\n",
       "      <td>0.000353</td>\n",
       "      <td>0.000422</td>\n",
       "      <td>0.000513</td>\n",
       "      <td>0.000243</td>\n",
       "      <td>0.000515</td>\n",
       "      <td>0.000451</td>\n",
       "      <td>0.000109</td>\n",
       "      <td>0.000179</td>\n",
       "      <td>0.000127</td>\n",
       "      <td>0.000062</td>\n",
       "      <td>0.000045</td>\n",
       "      <td>0.000165</td>\n",
       "      <td>0.000120</td>\n",
       "    </tr>\n",
       "    <tr>\n",
       "      <th>4</th>\n",
       "      <td>0.001363</td>\n",
       "      <td>0.001645</td>\n",
       "      <td>0.001790</td>\n",
       "      <td>0.001963</td>\n",
       "      <td>0.002768</td>\n",
       "      <td>0.003349</td>\n",
       "      <td>0.003944</td>\n",
       "      <td>0.003873</td>\n",
       "      <td>0.004645</td>\n",
       "      <td>0.004593</td>\n",
       "      <td>0.005153</td>\n",
       "      <td>0.005444</td>\n",
       "      <td>0.004328</td>\n",
       "      <td>0.005188</td>\n",
       "      <td>0.004707</td>\n",
       "      <td>0.004517</td>\n",
       "      <td>0.004992</td>\n",
       "      <td>0.006500</td>\n",
       "      <td>0.010702</td>\n",
       "      <td>0.006633</td>\n",
       "    </tr>\n",
       "  </tbody>\n",
       "</table>\n",
       "</div>"
      ],
      "text/plain": [
       "       2000      2001      2002      2003      2004      2005      2006  \\\n",
       "0  0.000471  0.000814  0.000878  0.000101  0.000902  0.000090  0.000952   \n",
       "1  0.113562  0.132122  0.134715  0.132393  0.139596  0.135752  0.137904   \n",
       "2  0.006864  0.005750  0.005499  0.008175  0.008642  0.008107  0.007402   \n",
       "3  0.000081  0.000113  0.000090  0.000423  0.000401  0.000846  0.000326   \n",
       "4  0.001363  0.001645  0.001790  0.001963  0.002768  0.003349  0.003944   \n",
       "\n",
       "       2007      2008      2009      2010      2011      2012      2013  \\\n",
       "0  0.001171  0.000810  0.001164  0.001056  0.000813  0.000082  0.000884   \n",
       "1  0.149435  0.145494  0.149580  0.151011  0.151688  0.128596  0.129366   \n",
       "2  0.000431  0.005628  0.007798  0.010786  0.005539  0.005476  0.007651   \n",
       "3  0.000353  0.000422  0.000513  0.000243  0.000515  0.000451  0.000109   \n",
       "4  0.003873  0.004645  0.004593  0.005153  0.005444  0.004328  0.005188   \n",
       "\n",
       "       2014      2015      2016      2017      2018      2019  \n",
       "0  0.000842  0.000885  0.000889  0.000088  0.000148  0.000084  \n",
       "1  0.116755  0.103900  0.107361  0.111912  0.187511  0.000000  \n",
       "2  0.004457  0.005261  0.006188  0.000382  0.000633  0.003165  \n",
       "3  0.000179  0.000127  0.000062  0.000045  0.000165  0.000120  \n",
       "4  0.004707  0.004517  0.004992  0.006500  0.010702  0.006633  "
      ]
     },
     "execution_count": 32,
     "metadata": {},
     "output_type": "execute_result"
    }
   ],
   "source": [
    "data.head()"
   ]
  },
  {
   "cell_type": "markdown",
   "id": "41d71e29-c537-49a8-b5cc-a24a690dd252",
   "metadata": {},
   "source": [
    "# Train-Test-Split"
   ]
  },
  {
   "cell_type": "code",
   "execution_count": 38,
   "id": "b926463d-8120-4924-9c97-c7e4e27c4d26",
   "metadata": {},
   "outputs": [],
   "source": [
    "X = data.drop(\"2019\",axis =1)\n",
    "y = data[\"2019\"]\n",
    "\n",
    "X_train,X_test,y_train,y_test = train_test_split(X,y,test_size= 0.3, random_state = 42)"
   ]
  },
  {
   "cell_type": "markdown",
   "id": "ac2f7fb6-cc0c-40e4-a71e-e85efaff247f",
   "metadata": {},
   "source": [
    "# Model Building and Training"
   ]
  },
  {
   "cell_type": "code",
   "execution_count": 40,
   "id": "c6b75c55-937e-49d5-8bd2-1be5d3ab6455",
   "metadata": {},
   "outputs": [
    {
     "data": {
      "text/html": [
       "<style>#sk-container-id-1 {color: black;background-color: white;}#sk-container-id-1 pre{padding: 0;}#sk-container-id-1 div.sk-toggleable {background-color: white;}#sk-container-id-1 label.sk-toggleable__label {cursor: pointer;display: block;width: 100%;margin-bottom: 0;padding: 0.3em;box-sizing: border-box;text-align: center;}#sk-container-id-1 label.sk-toggleable__label-arrow:before {content: \"▸\";float: left;margin-right: 0.25em;color: #696969;}#sk-container-id-1 label.sk-toggleable__label-arrow:hover:before {color: black;}#sk-container-id-1 div.sk-estimator:hover label.sk-toggleable__label-arrow:before {color: black;}#sk-container-id-1 div.sk-toggleable__content {max-height: 0;max-width: 0;overflow: hidden;text-align: left;background-color: #f0f8ff;}#sk-container-id-1 div.sk-toggleable__content pre {margin: 0.2em;color: black;border-radius: 0.25em;background-color: #f0f8ff;}#sk-container-id-1 input.sk-toggleable__control:checked~div.sk-toggleable__content {max-height: 200px;max-width: 100%;overflow: auto;}#sk-container-id-1 input.sk-toggleable__control:checked~label.sk-toggleable__label-arrow:before {content: \"▾\";}#sk-container-id-1 div.sk-estimator input.sk-toggleable__control:checked~label.sk-toggleable__label {background-color: #d4ebff;}#sk-container-id-1 div.sk-label input.sk-toggleable__control:checked~label.sk-toggleable__label {background-color: #d4ebff;}#sk-container-id-1 input.sk-hidden--visually {border: 0;clip: rect(1px 1px 1px 1px);clip: rect(1px, 1px, 1px, 1px);height: 1px;margin: -1px;overflow: hidden;padding: 0;position: absolute;width: 1px;}#sk-container-id-1 div.sk-estimator {font-family: monospace;background-color: #f0f8ff;border: 1px dotted black;border-radius: 0.25em;box-sizing: border-box;margin-bottom: 0.5em;}#sk-container-id-1 div.sk-estimator:hover {background-color: #d4ebff;}#sk-container-id-1 div.sk-parallel-item::after {content: \"\";width: 100%;border-bottom: 1px solid gray;flex-grow: 1;}#sk-container-id-1 div.sk-label:hover label.sk-toggleable__label {background-color: #d4ebff;}#sk-container-id-1 div.sk-serial::before {content: \"\";position: absolute;border-left: 1px solid gray;box-sizing: border-box;top: 0;bottom: 0;left: 50%;z-index: 0;}#sk-container-id-1 div.sk-serial {display: flex;flex-direction: column;align-items: center;background-color: white;padding-right: 0.2em;padding-left: 0.2em;position: relative;}#sk-container-id-1 div.sk-item {position: relative;z-index: 1;}#sk-container-id-1 div.sk-parallel {display: flex;align-items: stretch;justify-content: center;background-color: white;position: relative;}#sk-container-id-1 div.sk-item::before, #sk-container-id-1 div.sk-parallel-item::before {content: \"\";position: absolute;border-left: 1px solid gray;box-sizing: border-box;top: 0;bottom: 0;left: 50%;z-index: -1;}#sk-container-id-1 div.sk-parallel-item {display: flex;flex-direction: column;z-index: 1;position: relative;background-color: white;}#sk-container-id-1 div.sk-parallel-item:first-child::after {align-self: flex-end;width: 50%;}#sk-container-id-1 div.sk-parallel-item:last-child::after {align-self: flex-start;width: 50%;}#sk-container-id-1 div.sk-parallel-item:only-child::after {width: 0;}#sk-container-id-1 div.sk-dashed-wrapped {border: 1px dashed gray;margin: 0 0.4em 0.5em 0.4em;box-sizing: border-box;padding-bottom: 0.4em;background-color: white;}#sk-container-id-1 div.sk-label label {font-family: monospace;font-weight: bold;display: inline-block;line-height: 1.2em;}#sk-container-id-1 div.sk-label-container {text-align: center;}#sk-container-id-1 div.sk-container {/* jupyter's `normalize.less` sets `[hidden] { display: none; }` but bootstrap.min.css set `[hidden] { display: none !important; }` so we also need the `!important` here to be able to override the default hidden behavior on the sphinx rendered scikit-learn.org. See: https://github.com/scikit-learn/scikit-learn/issues/21755 */display: inline-block !important;position: relative;}#sk-container-id-1 div.sk-text-repr-fallback {display: none;}</style><div id=\"sk-container-id-1\" class=\"sk-top-container\"><div class=\"sk-text-repr-fallback\"><pre>KNeighborsRegressor()</pre><b>In a Jupyter environment, please rerun this cell to show the HTML representation or trust the notebook. <br />On GitHub, the HTML representation is unable to render, please try loading this page with nbviewer.org.</b></div><div class=\"sk-container\" hidden><div class=\"sk-item\"><div class=\"sk-estimator sk-toggleable\"><input class=\"sk-toggleable__control sk-hidden--visually\" id=\"sk-estimator-id-1\" type=\"checkbox\" checked><label for=\"sk-estimator-id-1\" class=\"sk-toggleable__label sk-toggleable__label-arrow\">KNeighborsRegressor</label><div class=\"sk-toggleable__content\"><pre>KNeighborsRegressor()</pre></div></div></div></div></div>"
      ],
      "text/plain": [
       "KNeighborsRegressor()"
      ]
     },
     "execution_count": 40,
     "metadata": {},
     "output_type": "execute_result"
    }
   ],
   "source": [
    "knnr = KNeighborsRegressor()\n",
    "knnr.fit(X_train,y_train)"
   ]
  },
  {
   "cell_type": "markdown",
   "id": "b8ca3ee4-417d-457d-9a6d-be3b77b23ee3",
   "metadata": {},
   "source": [
    "# Model Testing"
   ]
  },
  {
   "cell_type": "code",
   "execution_count": 42,
   "id": "13c70ab4-51d5-4849-9dee-8adfca34fb4a",
   "metadata": {},
   "outputs": [],
   "source": [
    "y_pred = knnr.predict(X_test)"
   ]
  },
  {
   "cell_type": "code",
   "execution_count": 44,
   "id": "d3ba7154-68fd-4f07-9a44-80d622c8e10c",
   "metadata": {},
   "outputs": [
    {
     "data": {
      "text/plain": [
       "0.023568650571157385"
      ]
     },
     "execution_count": 44,
     "metadata": {},
     "output_type": "execute_result"
    }
   ],
   "source": [
    "rmse = np.sqrt(mean_squared_error(y_test,y_pred))\n",
    "rmse"
   ]
  },
  {
   "cell_type": "code",
   "execution_count": 47,
   "id": "02b011f7-3bc2-4f47-af0e-ef912c37cfc2",
   "metadata": {},
   "outputs": [
    {
     "data": {
      "text/plain": [
       "0.021961244849291153"
      ]
     },
     "execution_count": 47,
     "metadata": {},
     "output_type": "execute_result"
    }
   ],
   "source": [
    "rmsle = np.sqrt(mean_squared_log_error(y_test,y_pred))\n",
    "rmsle"
   ]
  },
  {
   "cell_type": "code",
   "execution_count": 49,
   "id": "7d5970e1-00be-4d3f-a1b9-aa2452a293bc",
   "metadata": {},
   "outputs": [
    {
     "data": {
      "text/plain": [
       "-3.9382850317181486"
      ]
     },
     "execution_count": 49,
     "metadata": {},
     "output_type": "execute_result"
    }
   ],
   "source": [
    "r2 = r2_score(y_test,y_pred)\n",
    "r2"
   ]
  },
  {
   "cell_type": "code",
   "execution_count": 52,
   "id": "f321eb89-0b8d-4c4a-a00e-486e6a980bb1",
   "metadata": {},
   "outputs": [
    {
     "data": {
      "text/plain": [
       "-3.8932158945027657"
      ]
     },
     "execution_count": 52,
     "metadata": {},
     "output_type": "execute_result"
    }
   ],
   "source": [
    "evs = explained_variance_score(y_test, y_pred)\n",
    "evs"
   ]
  },
  {
   "cell_type": "code",
   "execution_count": 54,
   "id": "58dc6ad9-0ffc-4228-af3c-d4216b980c1a",
   "metadata": {},
   "outputs": [
    {
     "data": {
      "text/plain": [
       "0.005745630973674791"
      ]
     },
     "execution_count": 54,
     "metadata": {},
     "output_type": "execute_result"
    }
   ],
   "source": [
    "mae = mean_absolute_error(y_test, y_pred)\n",
    "mae"
   ]
  },
  {
   "cell_type": "markdown",
   "id": "65efca93-6f3c-4d6f-9ef3-cdf00a6a6e56",
   "metadata": {},
   "source": [
    "# Model Evaluation"
   ]
  },
  {
   "cell_type": "code",
   "execution_count": 63,
   "id": "98d8ce0d-4ab8-45c1-a141-c4ae807bec21",
   "metadata": {},
   "outputs": [
    {
     "data": {
      "text/plain": [
       "{'n_neighbors': 2}"
      ]
     },
     "execution_count": 63,
     "metadata": {},
     "output_type": "execute_result"
    }
   ],
   "source": [
    "# Employing grid search algorithm for best k value in knn\n",
    "params = ({\"n_neighbors\":list(range(1,21))})\n",
    "model = GridSearchCV(knnr, params, cv=5)\n",
    "model.fit(X_train,y_train)\n",
    "model.best_params_\n",
    "\n"
   ]
  },
  {
   "cell_type": "code",
   "execution_count": 71,
   "id": "da2ec1bb-3a82-43cb-ab3a-d01eb06e10f2",
   "metadata": {},
   "outputs": [
    {
     "data": {
      "text/plain": [
       "array([4.83982503e-04, 4.17429986e-05, 1.73272824e-04, 1.09024049e-02,\n",
       "       9.78991458e-04, 2.49670388e-04, 2.49670388e-04, 3.42213828e-04,\n",
       "       1.40981071e-04, 3.76080789e-03, 1.40981071e-04, 1.25622798e-04,\n",
       "       8.08869048e-04, 9.17558365e-05, 3.74190540e-03, 9.84504684e-05,\n",
       "       1.04672538e-02, 1.05152976e-02, 2.52190720e-03, 4.17429986e-05,\n",
       "       5.86764792e-03, 2.91413386e-05, 5.47384604e-05, 8.08869048e-04,\n",
       "       7.75789691e-05, 5.92986861e-03, 2.97068381e-02, 8.08869048e-04,\n",
       "       3.13348151e-03, 9.78991458e-04, 9.84504684e-05, 1.04751298e-03,\n",
       "       3.06373920e-02, 2.64026435e-01, 1.33892637e-04, 1.58150832e-03,\n",
       "       6.85215260e-05, 1.38578879e-03, 4.79595550e-02, 1.35806514e-02,\n",
       "       4.83982503e-04, 7.33731651e-03, 9.05744309e-06, 2.99919507e-03,\n",
       "       4.14909654e-03, 1.96231474e-03])"
      ]
     },
     "execution_count": 71,
     "metadata": {},
     "output_type": "execute_result"
    }
   ],
   "source": [
    "y_predi = model.predict(X_test)\n",
    "y_predi"
   ]
  },
  {
   "cell_type": "code",
   "execution_count": 65,
   "id": "f28decb2-2669-4037-b20e-01fc0a3e1b9c",
   "metadata": {},
   "outputs": [
    {
     "data": {
      "text/plain": [
       "0.03932122647779812"
      ]
     },
     "execution_count": 65,
     "metadata": {},
     "output_type": "execute_result"
    }
   ],
   "source": [
    "rmse = np.sqrt(mean_squared_error(y_test,y_predi))\n",
    "rmse"
   ]
  },
  {
   "cell_type": "code",
   "execution_count": 66,
   "id": "7f278659-2780-44e6-8bfe-01fccad32a0f",
   "metadata": {},
   "outputs": [
    {
     "data": {
      "text/plain": [
       "0.03497237175642198"
      ]
     },
     "execution_count": 66,
     "metadata": {},
     "output_type": "execute_result"
    }
   ],
   "source": [
    "rmsle = np.sqrt(mean_squared_log_error(y_test,y_predi))\n",
    "rmsle"
   ]
  },
  {
   "cell_type": "code",
   "execution_count": 67,
   "id": "96cabccd-c007-42eb-9069-fcdbf13af52f",
   "metadata": {},
   "outputs": [
    {
     "data": {
      "text/plain": [
       "-12.745509083842778"
      ]
     },
     "execution_count": 67,
     "metadata": {},
     "output_type": "execute_result"
    }
   ],
   "source": [
    "r2 = r2_score(y_test,y_predi)\n",
    "r2"
   ]
  },
  {
   "cell_type": "code",
   "execution_count": 69,
   "id": "73be0669-f8c1-4ddb-99be-74afc1061a7f",
   "metadata": {},
   "outputs": [
    {
     "data": {
      "text/plain": [
       "-12.518294383958729"
      ]
     },
     "execution_count": 69,
     "metadata": {},
     "output_type": "execute_result"
    }
   ],
   "source": [
    "evs = explained_variance_score(y_test, y_predi)\n",
    "evs"
   ]
  },
  {
   "cell_type": "code",
   "execution_count": 70,
   "id": "3b5d2c85-1326-40ec-b5dd-3bd9f716d26e",
   "metadata": {},
   "outputs": [
    {
     "data": {
      "text/plain": [
       "0.008028712745229842"
      ]
     },
     "execution_count": 70,
     "metadata": {},
     "output_type": "execute_result"
    }
   ],
   "source": [
    "mae = mean_absolute_error(y_test, y_predi)\n",
    "mae"
   ]
  },
  {
   "cell_type": "code",
   "execution_count": 73,
   "id": "3a085405-2b40-4f6a-9d3e-c51f6b2dba6f",
   "metadata": {},
   "outputs": [
    {
     "data": {
      "text/plain": [
       "-12.745509083842778"
      ]
     },
     "execution_count": 73,
     "metadata": {},
     "output_type": "execute_result"
    }
   ],
   "source": [
    "model.score(X_test,y_test)"
   ]
  },
  {
   "cell_type": "code",
   "execution_count": 79,
   "id": "9c4a6bc2-9c43-4b66-8353-f8798c0f1980",
   "metadata": {},
   "outputs": [
    {
     "name": "stdout",
     "output_type": "stream",
     "text": [
      "R2 Valid: -3.9382850317181486\n",
      "EVS Valid: -3.8932158945027657\n",
      "MAE Valid: 0.005745630973674791\n",
      "RMSE Valid: 0.023568650571157385\n",
      "RMSLE Valid: 0.021961244849291153\n"
     ]
    }
   ],
   "source": [
    "r2_valid = r2_score(y_test, y_pred)\n",
    "mae_valid = mean_absolute_error(y_test, y_pred)\n",
    "evs_valid = explained_variance_score(y_test, y_pred, multioutput='uniform_average')\n",
    "rmse_valid = np.sqrt(mean_squared_error(y_test, y_pred))\n",
    "rmsle_valid = np.sqrt(mean_squared_log_error(y_test, y_pred))\n",
    "\n",
    "print('R2 Valid:',r2_valid)\n",
    "print('EVS Valid:', evs_valid)\n",
    "print('MAE Valid:', mae_valid)\n",
    "print('RMSE Valid:',rmse_valid)\n",
    "print('RMSLE Valid:', rmsle_valid)"
   ]
  },
  {
   "cell_type": "code",
   "execution_count": 80,
   "id": "4dc05e97-4575-4d01-8c7c-18ac2d8e8bf2",
   "metadata": {},
   "outputs": [
    {
     "data": {
      "text/html": [
       "<div>\n",
       "<style scoped>\n",
       "    .dataframe tbody tr th:only-of-type {\n",
       "        vertical-align: middle;\n",
       "    }\n",
       "\n",
       "    .dataframe tbody tr th {\n",
       "        vertical-align: top;\n",
       "    }\n",
       "\n",
       "    .dataframe thead th {\n",
       "        text-align: right;\n",
       "    }\n",
       "</style>\n",
       "<table border=\"1\" class=\"dataframe\">\n",
       "  <thead>\n",
       "    <tr style=\"text-align: right;\">\n",
       "      <th></th>\n",
       "      <th>Test</th>\n",
       "      <th>Prediction</th>\n",
       "    </tr>\n",
       "  </thead>\n",
       "  <tbody>\n",
       "    <tr>\n",
       "      <th>0</th>\n",
       "      <td>0.000912</td>\n",
       "      <td>0.000310</td>\n",
       "    </tr>\n",
       "    <tr>\n",
       "      <th>1</th>\n",
       "      <td>0.000061</td>\n",
       "      <td>0.000050</td>\n",
       "    </tr>\n",
       "    <tr>\n",
       "      <th>2</th>\n",
       "      <td>0.000289</td>\n",
       "      <td>0.000155</td>\n",
       "    </tr>\n",
       "    <tr>\n",
       "      <th>3</th>\n",
       "      <td>0.012155</td>\n",
       "      <td>0.010069</td>\n",
       "    </tr>\n",
       "    <tr>\n",
       "      <th>4</th>\n",
       "      <td>0.001239</td>\n",
       "      <td>0.001395</td>\n",
       "    </tr>\n",
       "    <tr>\n",
       "      <th>5</th>\n",
       "      <td>0.000396</td>\n",
       "      <td>0.000216</td>\n",
       "    </tr>\n",
       "    <tr>\n",
       "      <th>6</th>\n",
       "      <td>0.000039</td>\n",
       "      <td>0.000224</td>\n",
       "    </tr>\n",
       "    <tr>\n",
       "      <th>7</th>\n",
       "      <td>0.000722</td>\n",
       "      <td>0.000224</td>\n",
       "    </tr>\n",
       "    <tr>\n",
       "      <th>8</th>\n",
       "      <td>0.000011</td>\n",
       "      <td>0.000105</td>\n",
       "    </tr>\n",
       "    <tr>\n",
       "      <th>9</th>\n",
       "      <td>0.005371</td>\n",
       "      <td>0.003693</td>\n",
       "    </tr>\n",
       "  </tbody>\n",
       "</table>\n",
       "</div>"
      ],
      "text/plain": [
       "       Test  Prediction\n",
       "0  0.000912    0.000310\n",
       "1  0.000061    0.000050\n",
       "2  0.000289    0.000155\n",
       "3  0.012155    0.010069\n",
       "4  0.001239    0.001395\n",
       "5  0.000396    0.000216\n",
       "6  0.000039    0.000224\n",
       "7  0.000722    0.000224\n",
       "8  0.000011    0.000105\n",
       "9  0.005371    0.003693"
      ]
     },
     "execution_count": 80,
     "metadata": {},
     "output_type": "execute_result"
    }
   ],
   "source": [
    "data_prediction = list(zip(y_test,y_pred))\n",
    "data_prediction = pd.DataFrame(data_prediction, columns=['Test','Prediction'])\n",
    "data_prediction.head(10)"
   ]
  },
  {
   "cell_type": "code",
   "execution_count": null,
   "id": "7fc02db3-efec-4d25-8d8e-053e0f28e750",
   "metadata": {},
   "outputs": [],
   "source": []
  }
 ],
 "metadata": {
  "kernelspec": {
   "display_name": "Python 3 (ipykernel)",
   "language": "python",
   "name": "python3"
  },
  "language_info": {
   "codemirror_mode": {
    "name": "ipython",
    "version": 3
   },
   "file_extension": ".py",
   "mimetype": "text/x-python",
   "name": "python",
   "nbconvert_exporter": "python",
   "pygments_lexer": "ipython3",
   "version": "3.11.5"
  }
 },
 "nbformat": 4,
 "nbformat_minor": 5
}
